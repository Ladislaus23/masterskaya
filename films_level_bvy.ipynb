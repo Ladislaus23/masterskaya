{
 "cells": [
  {
   "cell_type": "markdown",
   "id": "f524f1ba",
   "metadata": {
    "toc": true
   },
   "source": [
    "<h1>Содержание<span class=\"tocSkip\"></span></h1>\n",
    "<div class=\"toc\"><ul class=\"toc-item\"><li><span><a href=\"#Загрузка-библиотек,-подготовка-инструментов-для-обработки-данных\" data-toc-modified-id=\"Загрузка-библиотек,-подготовка-инструментов-для-обработки-данных-1\"><span class=\"toc-item-num\">1&nbsp;&nbsp;</span>Загрузка библиотек, подготовка инструментов для обработки данных</a></span></li><li><span><a href=\"#Предобработка-данных\" data-toc-modified-id=\"Предобработка-данных-2\"><span class=\"toc-item-num\">2&nbsp;&nbsp;</span>Предобработка данных</a></span><ul class=\"toc-item\"><li><span><a href=\"#Сформируем-таблицу-с-информацией-о-фильмах-и-их-уровнях-сложностей:\" data-toc-modified-id=\"Сформируем-таблицу-с-информацией-о-фильмах-и-их-уровнях-сложностей:-2.1\"><span class=\"toc-item-num\">2.1&nbsp;&nbsp;</span>Сформируем таблицу с информацией о фильмах и их уровнях сложностей:</a></span></li><li><span><a href=\"#Сформируем-таблицу-с-субтитрами-и-их-названиями:\" data-toc-modified-id=\"Сформируем-таблицу-с-субтитрами-и-их-названиями:-2.2\"><span class=\"toc-item-num\">2.2&nbsp;&nbsp;</span>Сформируем таблицу с субтитрами и их названиями:</a></span></li><li><span><a href=\"#Cформируем-таблицу-с-общей-информацией-о-фильмах-и-субтитрах:\" data-toc-modified-id=\"Cформируем-таблицу-с-общей-информацией-о-фильмах-и-субтитрах:-2.3\"><span class=\"toc-item-num\">2.3&nbsp;&nbsp;</span>Cформируем таблицу с общей информацией о фильмах и субтитрах:</a></span></li><li><span><a href=\"#Преобразуем-категориальные-признаки-(уровни-сложности)-в-количественные:\" data-toc-modified-id=\"Преобразуем-категориальные-признаки-(уровни-сложности)-в-количественные:-2.4\"><span class=\"toc-item-num\">2.4&nbsp;&nbsp;</span>Преобразуем категориальные признаки (уровни сложности) в количественные:</a></span></li></ul></li><li><span><a href=\"#Обучение-моделей:\" data-toc-modified-id=\"Обучение-моделей:-3\"><span class=\"toc-item-num\">3&nbsp;&nbsp;</span>Обучение моделей:</a></span><ul class=\"toc-item\"><li><span><a href=\"#Разделяем-данные-на-тренировочную-и-тестовые-выборки:\" data-toc-modified-id=\"Разделяем-данные-на-тренировочную-и-тестовые-выборки:-3.1\"><span class=\"toc-item-num\">3.1&nbsp;&nbsp;</span>Разделяем данные на тренировочную и тестовые выборки:</a></span></li><li><span><a href=\"#Векторизация-данных:\" data-toc-modified-id=\"Векторизация-данных:-3.2\"><span class=\"toc-item-num\">3.2&nbsp;&nbsp;</span>Векторизация данных:</a></span><ul class=\"toc-item\"><li><span><a href=\"#Методом-TF-Idf\" data-toc-modified-id=\"Методом-TF-Idf-3.2.1\"><span class=\"toc-item-num\">3.2.1&nbsp;&nbsp;</span>Методом TF-Idf</a></span></li><li><span><a href=\"#Методом-BOW\" data-toc-modified-id=\"Методом-BOW-3.2.2\"><span class=\"toc-item-num\">3.2.2&nbsp;&nbsp;</span>Методом BOW</a></span></li></ul></li><li><span><a href=\"#Получение-предсказаний:\" data-toc-modified-id=\"Получение-предсказаний:-3.3\"><span class=\"toc-item-num\">3.3&nbsp;&nbsp;</span>Получение предсказаний:</a></span><ul class=\"toc-item\"><li><span><a href=\"#TF-Idf-+-Naive-Bayes-classifier\" data-toc-modified-id=\"TF-Idf-+-Naive-Bayes-classifier-3.3.1\"><span class=\"toc-item-num\">3.3.1&nbsp;&nbsp;</span>TF-Idf + Naive Bayes classifier</a></span></li><li><span><a href=\"#BOW-+-Naive-Bayes-classifier\" data-toc-modified-id=\"BOW-+-Naive-Bayes-classifier-3.3.2\"><span class=\"toc-item-num\">3.3.2&nbsp;&nbsp;</span>BOW + Naive Bayes classifier</a></span></li></ul></li><li><span><a href=\"#LogisticRegression-+-TF-Idf\" data-toc-modified-id=\"LogisticRegression-+-TF-Idf-3.4\"><span class=\"toc-item-num\">3.4&nbsp;&nbsp;</span>LogisticRegression + TF-Idf</a></span></li><li><span><a href=\"#LogisticRegression-+-BOW\" data-toc-modified-id=\"LogisticRegression-+-BOW-3.5\"><span class=\"toc-item-num\">3.5&nbsp;&nbsp;</span>LogisticRegression + BOW</a></span></li></ul></li><li><span><a href=\"#Результаты,-замечания-и-краткие-выводы:\" data-toc-modified-id=\"Результаты,-замечания-и-краткие-выводы:-4\"><span class=\"toc-item-num\">4&nbsp;&nbsp;</span>Результаты, замечания и краткие выводы:</a></span></li></ul></div>"
   ]
  },
  {
   "cell_type": "markdown",
   "id": "8147e165",
   "metadata": {},
   "source": [
    "# Загрузка библиотек, подготовка инструментов для обработки данных"
   ]
  },
  {
   "cell_type": "code",
   "execution_count": 1,
   "id": "f9037503",
   "metadata": {
    "scrolled": false
   },
   "outputs": [
    {
     "name": "stderr",
     "output_type": "stream",
     "text": [
      "[nltk_data] Downloading package punkt to /home/vladislav/nltk_data...\n",
      "[nltk_data]   Package punkt is already up-to-date!\n",
      "[nltk_data] Downloading package stopwords to\n",
      "[nltk_data]     /home/vladislav/nltk_data...\n",
      "[nltk_data]   Package stopwords is already up-to-date!\n",
      "[nltk_data] Downloading package wordnet to\n",
      "[nltk_data]     /home/vladislav/nltk_data...\n",
      "[nltk_data]   Package wordnet is already up-to-date!\n"
     ]
    }
   ],
   "source": [
    "import pandas as pd\n",
    "import re\n",
    "import pysrt\n",
    "import difflib as dif\n",
    "import numpy as np\n",
    "\n",
    "from pathlib import Path\n",
    "\n",
    "from sklearn.model_selection import train_test_split\n",
    "\n",
    "from sklearn.feature_extraction.text import CountVectorizer\n",
    "from sklearn.feature_extraction.text import TfidfVectorizer\n",
    "\n",
    "from sklearn.naive_bayes import MultinomialNB\n",
    "from sklearn.linear_model import LogisticRegression\n",
    "\n",
    "from sklearn.preprocessing import OrdinalEncoder\n",
    "\n",
    "from sklearn.metrics import accuracy_score\n",
    "from sklearn.metrics import f1_score\n",
    "\n",
    "from sklearn.metrics import confusion_matrix\n",
    "import matplotlib.pyplot as plt\n",
    "import seaborn as sns\n",
    "\n",
    "import nltk\n",
    "nltk.download('punkt')\n",
    "nltk.download('stopwords')\n",
    "nltk.download('wordnet')\n",
    "\n",
    "from nltk.tokenize import word_tokenize\n",
    "from nltk.corpus import stopwords\n",
    "from nltk.stem import WordNetLemmatizer"
   ]
  },
  {
   "cell_type": "markdown",
   "id": "dc92198c",
   "metadata": {},
   "source": [
    "Инициализируем список стоп-слов и инструмент для лемматизации текста:"
   ]
  },
  {
   "cell_type": "code",
   "execution_count": 2,
   "id": "93f0d524",
   "metadata": {},
   "outputs": [],
   "source": [
    "stop_words = stopwords.words('english')\n",
    "lemmatizer = WordNetLemmatizer()"
   ]
  },
  {
   "cell_type": "markdown",
   "id": "1240af8e",
   "metadata": {},
   "source": [
    "Функция для обработки субтитров:"
   ]
  },
  {
   "cell_type": "code",
   "execution_count": 3,
   "id": "fe9ca454",
   "metadata": {},
   "outputs": [],
   "source": [
    "def clean_subs(subs):\n",
    "    \n",
    "  subs = re.sub(re.compile('<.*?>'), '', subs)\n",
    "  subs = re.sub('[^A-Za-z0-9]+', ' ', subs) \n",
    "  \n",
    "  subs = subs.lower()\n",
    "  \n",
    "  tokens = nltk.word_tokenize(subs)\n",
    "  \n",
    "  subs = [word for word in tokens if word not in stop_words]\n",
    "  \n",
    "  subs = [lemmatizer.lemmatize(word) for word in subs]\n",
    "  \n",
    "  subs = ' '.join(subs)\n",
    "  \n",
    "  return subs"
   ]
  },
  {
   "cell_type": "markdown",
   "id": "145a34f2",
   "metadata": {},
   "source": [
    "# Предобработка данных"
   ]
  },
  {
   "cell_type": "markdown",
   "id": "405191df",
   "metadata": {},
   "source": [
    "## Сформируем таблицу с информацией о фильмах и их уровнях сложностей:"
   ]
  },
  {
   "cell_type": "code",
   "execution_count": 4,
   "id": "f4df4e3a",
   "metadata": {
    "scrolled": true
   },
   "outputs": [
    {
     "data": {
      "text/html": [
       "<div>\n",
       "<style scoped>\n",
       "    .dataframe tbody tr th:only-of-type {\n",
       "        vertical-align: middle;\n",
       "    }\n",
       "\n",
       "    .dataframe tbody tr th {\n",
       "        vertical-align: top;\n",
       "    }\n",
       "\n",
       "    .dataframe thead th {\n",
       "        text-align: right;\n",
       "    }\n",
       "</style>\n",
       "<table border=\"1\" class=\"dataframe\">\n",
       "  <thead>\n",
       "    <tr style=\"text-align: right;\">\n",
       "      <th></th>\n",
       "      <th>Movie</th>\n",
       "      <th>Level</th>\n",
       "    </tr>\n",
       "  </thead>\n",
       "  <tbody>\n",
       "    <tr>\n",
       "      <th>0</th>\n",
       "      <td>10_Cloverfield_lane(2016)</td>\n",
       "      <td>B1</td>\n",
       "    </tr>\n",
       "    <tr>\n",
       "      <th>1</th>\n",
       "      <td>10_things_I_hate_about_you(1999)</td>\n",
       "      <td>B1</td>\n",
       "    </tr>\n",
       "    <tr>\n",
       "      <th>2</th>\n",
       "      <td>A_knights_tale(2001)</td>\n",
       "      <td>B2</td>\n",
       "    </tr>\n",
       "    <tr>\n",
       "      <th>3</th>\n",
       "      <td>A_star_is_born(2018)</td>\n",
       "      <td>B2</td>\n",
       "    </tr>\n",
       "    <tr>\n",
       "      <th>4</th>\n",
       "      <td>Aladdin(1992)</td>\n",
       "      <td>A2/A2+</td>\n",
       "    </tr>\n",
       "    <tr>\n",
       "      <th>...</th>\n",
       "      <td>...</td>\n",
       "      <td>...</td>\n",
       "    </tr>\n",
       "    <tr>\n",
       "      <th>236</th>\n",
       "      <td>Matilda(2022)</td>\n",
       "      <td>C1</td>\n",
       "    </tr>\n",
       "    <tr>\n",
       "      <th>237</th>\n",
       "      <td>Bullet train</td>\n",
       "      <td>B1</td>\n",
       "    </tr>\n",
       "    <tr>\n",
       "      <th>238</th>\n",
       "      <td>Thor: love and thunder</td>\n",
       "      <td>B2</td>\n",
       "    </tr>\n",
       "    <tr>\n",
       "      <th>239</th>\n",
       "      <td>Lightyear</td>\n",
       "      <td>B2</td>\n",
       "    </tr>\n",
       "    <tr>\n",
       "      <th>240</th>\n",
       "      <td>The Grinch</td>\n",
       "      <td>B1</td>\n",
       "    </tr>\n",
       "  </tbody>\n",
       "</table>\n",
       "<p>241 rows × 2 columns</p>\n",
       "</div>"
      ],
      "text/plain": [
       "                                Movie   Level\n",
       "0           10_Cloverfield_lane(2016)      B1\n",
       "1    10_things_I_hate_about_you(1999)      B1\n",
       "2                A_knights_tale(2001)      B2\n",
       "3                A_star_is_born(2018)      B2\n",
       "4                       Aladdin(1992)  A2/A2+\n",
       "..                                ...     ...\n",
       "236                     Matilda(2022)      C1\n",
       "237                      Bullet train      B1\n",
       "238            Thor: love and thunder      B2\n",
       "239                         Lightyear      B2\n",
       "240                        The Grinch      B1\n",
       "\n",
       "[241 rows x 2 columns]"
      ]
     },
     "execution_count": 4,
     "metadata": {},
     "output_type": "execute_result"
    }
   ],
   "source": [
    "df_films_data = pd.read_excel('movies_labels.xlsx').drop('id', axis=1)\n",
    "df_films_data"
   ]
  },
  {
   "cell_type": "markdown",
   "id": "787ee993",
   "metadata": {},
   "source": [
    "Здесь `Movie` -- название фильма, `Level` -- его уровень сложности. Уберём нижнее подчёркивание в названиях:"
   ]
  },
  {
   "cell_type": "code",
   "execution_count": 5,
   "id": "f66b37e7",
   "metadata": {},
   "outputs": [
    {
     "data": {
      "text/html": [
       "<div>\n",
       "<style scoped>\n",
       "    .dataframe tbody tr th:only-of-type {\n",
       "        vertical-align: middle;\n",
       "    }\n",
       "\n",
       "    .dataframe tbody tr th {\n",
       "        vertical-align: top;\n",
       "    }\n",
       "\n",
       "    .dataframe thead th {\n",
       "        text-align: right;\n",
       "    }\n",
       "</style>\n",
       "<table border=\"1\" class=\"dataframe\">\n",
       "  <thead>\n",
       "    <tr style=\"text-align: right;\">\n",
       "      <th></th>\n",
       "      <th>Movie</th>\n",
       "      <th>Level</th>\n",
       "    </tr>\n",
       "  </thead>\n",
       "  <tbody>\n",
       "    <tr>\n",
       "      <th>0</th>\n",
       "      <td>10 Cloverfield lane(2016)</td>\n",
       "      <td>B1</td>\n",
       "    </tr>\n",
       "    <tr>\n",
       "      <th>1</th>\n",
       "      <td>10 things I hate about you(1999)</td>\n",
       "      <td>B1</td>\n",
       "    </tr>\n",
       "    <tr>\n",
       "      <th>2</th>\n",
       "      <td>A knights tale(2001)</td>\n",
       "      <td>B2</td>\n",
       "    </tr>\n",
       "    <tr>\n",
       "      <th>3</th>\n",
       "      <td>A star is born(2018)</td>\n",
       "      <td>B2</td>\n",
       "    </tr>\n",
       "    <tr>\n",
       "      <th>4</th>\n",
       "      <td>Aladdin(1992)</td>\n",
       "      <td>A2/A2+</td>\n",
       "    </tr>\n",
       "    <tr>\n",
       "      <th>...</th>\n",
       "      <td>...</td>\n",
       "      <td>...</td>\n",
       "    </tr>\n",
       "    <tr>\n",
       "      <th>236</th>\n",
       "      <td>Matilda(2022)</td>\n",
       "      <td>C1</td>\n",
       "    </tr>\n",
       "    <tr>\n",
       "      <th>237</th>\n",
       "      <td>Bullet train</td>\n",
       "      <td>B1</td>\n",
       "    </tr>\n",
       "    <tr>\n",
       "      <th>238</th>\n",
       "      <td>Thor: love and thunder</td>\n",
       "      <td>B2</td>\n",
       "    </tr>\n",
       "    <tr>\n",
       "      <th>239</th>\n",
       "      <td>Lightyear</td>\n",
       "      <td>B2</td>\n",
       "    </tr>\n",
       "    <tr>\n",
       "      <th>240</th>\n",
       "      <td>The Grinch</td>\n",
       "      <td>B1</td>\n",
       "    </tr>\n",
       "  </tbody>\n",
       "</table>\n",
       "<p>241 rows × 2 columns</p>\n",
       "</div>"
      ],
      "text/plain": [
       "                                Movie   Level\n",
       "0           10 Cloverfield lane(2016)      B1\n",
       "1    10 things I hate about you(1999)      B1\n",
       "2                A knights tale(2001)      B2\n",
       "3                A star is born(2018)      B2\n",
       "4                       Aladdin(1992)  A2/A2+\n",
       "..                                ...     ...\n",
       "236                     Matilda(2022)      C1\n",
       "237                      Bullet train      B1\n",
       "238            Thor: love and thunder      B2\n",
       "239                         Lightyear      B2\n",
       "240                        The Grinch      B1\n",
       "\n",
       "[241 rows x 2 columns]"
      ]
     },
     "execution_count": 5,
     "metadata": {},
     "output_type": "execute_result"
    }
   ],
   "source": [
    "df_films_data.Movie = df_films_data.Movie.apply(lambda x: re.sub(r'[_]', ' ', x))\n",
    "df_films_data"
   ]
  },
  {
   "cell_type": "markdown",
   "id": "7adb617f",
   "metadata": {},
   "source": [
    "## Сформируем таблицу с субтитрами и их названиями:"
   ]
  },
  {
   "cell_type": "code",
   "execution_count": 6,
   "id": "72a64366",
   "metadata": {
    "scrolled": false
   },
   "outputs": [
    {
     "data": {
      "text/plain": [
       "True"
      ]
     },
     "execution_count": 6,
     "metadata": {},
     "output_type": "execute_result"
    }
   ],
   "source": [
    "path = Path('/home/vladislav/Practicum/Masterskaya')\n",
    "path.exists()"
   ]
  },
  {
   "cell_type": "code",
   "execution_count": 7,
   "id": "20fda57b",
   "metadata": {},
   "outputs": [],
   "source": [
    "python_files = path.glob('**/*.srt') \n",
    "\n",
    "D = []\n",
    "\n",
    "for pf in python_files: \n",
    "    #print(pf)\n",
    "    subs = pysrt.open(pf, encoding='iso-8859-1')\n",
    "    D.append([pf.name, subs])"
   ]
  },
  {
   "cell_type": "code",
   "execution_count": 8,
   "id": "a023cd02",
   "metadata": {
    "scrolled": false
   },
   "outputs": [
    {
     "data": {
      "text/html": [
       "<div>\n",
       "<style scoped>\n",
       "    .dataframe tbody tr th:only-of-type {\n",
       "        vertical-align: middle;\n",
       "    }\n",
       "\n",
       "    .dataframe tbody tr th {\n",
       "        vertical-align: top;\n",
       "    }\n",
       "\n",
       "    .dataframe thead th {\n",
       "        text-align: right;\n",
       "    }\n",
       "</style>\n",
       "<table border=\"1\" class=\"dataframe\">\n",
       "  <thead>\n",
       "    <tr style=\"text-align: right;\">\n",
       "      <th></th>\n",
       "      <th>Subs</th>\n",
       "      <th>Subs_Data</th>\n",
       "    </tr>\n",
       "  </thead>\n",
       "  <tbody>\n",
       "    <tr>\n",
       "      <th>0</th>\n",
       "      <td>Crown, The S01E01 - Wolferton Splash.en.SDH.srt</td>\n",
       "      <td>[ï»¿1\\n00:00:10,640 --&gt; 00:00:14,560\\n[coughin...</td>\n",
       "    </tr>\n",
       "    <tr>\n",
       "      <th>1</th>\n",
       "      <td>Suits.Episode 6- Privilege.srt</td>\n",
       "      <td>[ï»¿1\\n00:00:07,308 --&gt; 00:00:09,208\\nAvery mc...</td>\n",
       "    </tr>\n",
       "    <tr>\n",
       "      <th>2</th>\n",
       "      <td>Crown, The S01E05 - Smoke and Mirrors.en.srt</td>\n",
       "      <td>[ï»¿1\\n00:00:29,240 --&gt; 00:00:32,000\\nYes.\\n, ...</td>\n",
       "    </tr>\n",
       "    <tr>\n",
       "      <th>3</th>\n",
       "      <td>Crown, The S01E03 - Windsor.en.FORCED.srt</td>\n",
       "      <td>[ï»¿1\\n00:30:13,960 --&gt; 00:30:16,520\\nDear Aun...</td>\n",
       "    </tr>\n",
       "    <tr>\n",
       "      <th>4</th>\n",
       "      <td>Suits.S01E09.1080p.BluRay.AAC5.1.x265-DTG.02.E...</td>\n",
       "      <td>[ï»¿1\\n00:00:08,925 --&gt; 00:00:09,967\\nNo. Mike...</td>\n",
       "    </tr>\n",
       "    <tr>\n",
       "      <th>...</th>\n",
       "      <td>...</td>\n",
       "      <td>...</td>\n",
       "    </tr>\n",
       "    <tr>\n",
       "      <th>273</th>\n",
       "      <td>The Walking Dead-S01E05-Wildfire.English.srt</td>\n",
       "      <td>[1\\n00:00:03,420 --&gt; 00:00:04,922\\n- ( walkie-...</td>\n",
       "    </tr>\n",
       "    <tr>\n",
       "      <th>274</th>\n",
       "      <td>The Walking Dead-S01E06-TS-19.English.srt</td>\n",
       "      <td>[1\\n00:00:03,086 --&gt; 00:00:06,215\\n- ( people ...</td>\n",
       "    </tr>\n",
       "    <tr>\n",
       "      <th>275</th>\n",
       "      <td>The Walking Dead-S01E02-Guts.English.srt</td>\n",
       "      <td>[1\\n00:00:03,045 --&gt; 00:00:05,047\\n- ( birds c...</td>\n",
       "    </tr>\n",
       "    <tr>\n",
       "      <th>276</th>\n",
       "      <td>The Walking Dead-S01E04-Vatos.English.srt</td>\n",
       "      <td>[1\\n00:00:03,045 --&gt; 00:00:05,422\\n( birds chi...</td>\n",
       "    </tr>\n",
       "    <tr>\n",
       "      <th>277</th>\n",
       "      <td>The Walking Dead-S01E03-Tell It To The Frogs.E...</td>\n",
       "      <td>[1\\n00:00:03,003 --&gt; 00:00:04,671\\n( thunder r...</td>\n",
       "    </tr>\n",
       "  </tbody>\n",
       "</table>\n",
       "<p>278 rows × 2 columns</p>\n",
       "</div>"
      ],
      "text/plain": [
       "                                                  Subs  \\\n",
       "0      Crown, The S01E01 - Wolferton Splash.en.SDH.srt   \n",
       "1                       Suits.Episode 6- Privilege.srt   \n",
       "2         Crown, The S01E05 - Smoke and Mirrors.en.srt   \n",
       "3            Crown, The S01E03 - Windsor.en.FORCED.srt   \n",
       "4    Suits.S01E09.1080p.BluRay.AAC5.1.x265-DTG.02.E...   \n",
       "..                                                 ...   \n",
       "273       The Walking Dead-S01E05-Wildfire.English.srt   \n",
       "274          The Walking Dead-S01E06-TS-19.English.srt   \n",
       "275           The Walking Dead-S01E02-Guts.English.srt   \n",
       "276          The Walking Dead-S01E04-Vatos.English.srt   \n",
       "277  The Walking Dead-S01E03-Tell It To The Frogs.E...   \n",
       "\n",
       "                                             Subs_Data  \n",
       "0    [ï»¿1\\n00:00:10,640 --> 00:00:14,560\\n[coughin...  \n",
       "1    [ï»¿1\\n00:00:07,308 --> 00:00:09,208\\nAvery mc...  \n",
       "2    [ï»¿1\\n00:00:29,240 --> 00:00:32,000\\nYes.\\n, ...  \n",
       "3    [ï»¿1\\n00:30:13,960 --> 00:30:16,520\\nDear Aun...  \n",
       "4    [ï»¿1\\n00:00:08,925 --> 00:00:09,967\\nNo. Mike...  \n",
       "..                                                 ...  \n",
       "273  [1\\n00:00:03,420 --> 00:00:04,922\\n- ( walkie-...  \n",
       "274  [1\\n00:00:03,086 --> 00:00:06,215\\n- ( people ...  \n",
       "275  [1\\n00:00:03,045 --> 00:00:05,047\\n- ( birds c...  \n",
       "276  [1\\n00:00:03,045 --> 00:00:05,422\\n( birds chi...  \n",
       "277  [1\\n00:00:03,003 --> 00:00:04,671\\n( thunder r...  \n",
       "\n",
       "[278 rows x 2 columns]"
      ]
     },
     "execution_count": 8,
     "metadata": {},
     "output_type": "execute_result"
    }
   ],
   "source": [
    "df_subs_data = pd.DataFrame(D, columns=['Subs', 'Subs_Data'])\n",
    "df_subs_data"
   ]
  },
  {
   "cell_type": "markdown",
   "id": "672c15a0",
   "metadata": {},
   "source": [
    "Здесь `Subs` -- название фильма, которому соответствуют субтитры, `Subs_Data` -- необработанные субтитры. Уберём нижнее подчёркивание в названиях:"
   ]
  },
  {
   "cell_type": "code",
   "execution_count": 9,
   "id": "5cad9378",
   "metadata": {},
   "outputs": [
    {
     "data": {
      "text/html": [
       "<div>\n",
       "<style scoped>\n",
       "    .dataframe tbody tr th:only-of-type {\n",
       "        vertical-align: middle;\n",
       "    }\n",
       "\n",
       "    .dataframe tbody tr th {\n",
       "        vertical-align: top;\n",
       "    }\n",
       "\n",
       "    .dataframe thead th {\n",
       "        text-align: right;\n",
       "    }\n",
       "</style>\n",
       "<table border=\"1\" class=\"dataframe\">\n",
       "  <thead>\n",
       "    <tr style=\"text-align: right;\">\n",
       "      <th></th>\n",
       "      <th>Subs</th>\n",
       "      <th>Subs_Data</th>\n",
       "    </tr>\n",
       "  </thead>\n",
       "  <tbody>\n",
       "    <tr>\n",
       "      <th>0</th>\n",
       "      <td>Crown, The S01E01 - Wolferton Splash.en.SDH.srt</td>\n",
       "      <td>[ï»¿1\\n00:00:10,640 --&gt; 00:00:14,560\\n[coughin...</td>\n",
       "    </tr>\n",
       "    <tr>\n",
       "      <th>1</th>\n",
       "      <td>Suits.Episode 6- Privilege.srt</td>\n",
       "      <td>[ï»¿1\\n00:00:07,308 --&gt; 00:00:09,208\\nAvery mc...</td>\n",
       "    </tr>\n",
       "    <tr>\n",
       "      <th>2</th>\n",
       "      <td>Crown, The S01E05 - Smoke and Mirrors.en.srt</td>\n",
       "      <td>[ï»¿1\\n00:00:29,240 --&gt; 00:00:32,000\\nYes.\\n, ...</td>\n",
       "    </tr>\n",
       "    <tr>\n",
       "      <th>3</th>\n",
       "      <td>Crown, The S01E03 - Windsor.en.FORCED.srt</td>\n",
       "      <td>[ï»¿1\\n00:30:13,960 --&gt; 00:30:16,520\\nDear Aun...</td>\n",
       "    </tr>\n",
       "    <tr>\n",
       "      <th>4</th>\n",
       "      <td>Suits.S01E09.1080p.BluRay.AAC5.1.x265-DTG.02.E...</td>\n",
       "      <td>[ï»¿1\\n00:00:08,925 --&gt; 00:00:09,967\\nNo. Mike...</td>\n",
       "    </tr>\n",
       "    <tr>\n",
       "      <th>...</th>\n",
       "      <td>...</td>\n",
       "      <td>...</td>\n",
       "    </tr>\n",
       "    <tr>\n",
       "      <th>273</th>\n",
       "      <td>The Walking Dead-S01E05-Wildfire.English.srt</td>\n",
       "      <td>[1\\n00:00:03,420 --&gt; 00:00:04,922\\n- ( walkie-...</td>\n",
       "    </tr>\n",
       "    <tr>\n",
       "      <th>274</th>\n",
       "      <td>The Walking Dead-S01E06-TS-19.English.srt</td>\n",
       "      <td>[1\\n00:00:03,086 --&gt; 00:00:06,215\\n- ( people ...</td>\n",
       "    </tr>\n",
       "    <tr>\n",
       "      <th>275</th>\n",
       "      <td>The Walking Dead-S01E02-Guts.English.srt</td>\n",
       "      <td>[1\\n00:00:03,045 --&gt; 00:00:05,047\\n- ( birds c...</td>\n",
       "    </tr>\n",
       "    <tr>\n",
       "      <th>276</th>\n",
       "      <td>The Walking Dead-S01E04-Vatos.English.srt</td>\n",
       "      <td>[1\\n00:00:03,045 --&gt; 00:00:05,422\\n( birds chi...</td>\n",
       "    </tr>\n",
       "    <tr>\n",
       "      <th>277</th>\n",
       "      <td>The Walking Dead-S01E03-Tell It To The Frogs.E...</td>\n",
       "      <td>[1\\n00:00:03,003 --&gt; 00:00:04,671\\n( thunder r...</td>\n",
       "    </tr>\n",
       "  </tbody>\n",
       "</table>\n",
       "<p>278 rows × 2 columns</p>\n",
       "</div>"
      ],
      "text/plain": [
       "                                                  Subs  \\\n",
       "0      Crown, The S01E01 - Wolferton Splash.en.SDH.srt   \n",
       "1                       Suits.Episode 6- Privilege.srt   \n",
       "2         Crown, The S01E05 - Smoke and Mirrors.en.srt   \n",
       "3            Crown, The S01E03 - Windsor.en.FORCED.srt   \n",
       "4    Suits.S01E09.1080p.BluRay.AAC5.1.x265-DTG.02.E...   \n",
       "..                                                 ...   \n",
       "273       The Walking Dead-S01E05-Wildfire.English.srt   \n",
       "274          The Walking Dead-S01E06-TS-19.English.srt   \n",
       "275           The Walking Dead-S01E02-Guts.English.srt   \n",
       "276          The Walking Dead-S01E04-Vatos.English.srt   \n",
       "277  The Walking Dead-S01E03-Tell It To The Frogs.E...   \n",
       "\n",
       "                                             Subs_Data  \n",
       "0    [ï»¿1\\n00:00:10,640 --> 00:00:14,560\\n[coughin...  \n",
       "1    [ï»¿1\\n00:00:07,308 --> 00:00:09,208\\nAvery mc...  \n",
       "2    [ï»¿1\\n00:00:29,240 --> 00:00:32,000\\nYes.\\n, ...  \n",
       "3    [ï»¿1\\n00:30:13,960 --> 00:30:16,520\\nDear Aun...  \n",
       "4    [ï»¿1\\n00:00:08,925 --> 00:00:09,967\\nNo. Mike...  \n",
       "..                                                 ...  \n",
       "273  [1\\n00:00:03,420 --> 00:00:04,922\\n- ( walkie-...  \n",
       "274  [1\\n00:00:03,086 --> 00:00:06,215\\n- ( people ...  \n",
       "275  [1\\n00:00:03,045 --> 00:00:05,047\\n- ( birds c...  \n",
       "276  [1\\n00:00:03,045 --> 00:00:05,422\\n( birds chi...  \n",
       "277  [1\\n00:00:03,003 --> 00:00:04,671\\n( thunder r...  \n",
       "\n",
       "[278 rows x 2 columns]"
      ]
     },
     "execution_count": 9,
     "metadata": {},
     "output_type": "execute_result"
    }
   ],
   "source": [
    "df_subs_data.Subs = df_subs_data.Subs.apply(lambda x: re.sub(r'[_]', ' ', x))\n",
    "df_subs_data"
   ]
  },
  {
   "cell_type": "markdown",
   "id": "90937a98",
   "metadata": {},
   "source": [
    "Сопоставим названиям субтитров названия фильмов с помощью `get_close_matches`, добавим \"процент совпадения\" `Score` названия фильма и сопоставленного ему массива субтитров:"
   ]
  },
  {
   "cell_type": "code",
   "execution_count": 10,
   "id": "c7b7b3e5",
   "metadata": {},
   "outputs": [],
   "source": [
    "film_names = df_films_data.Movie.tolist()\n",
    "subs_names = df_subs_data.Subs.tolist()"
   ]
  },
  {
   "cell_type": "code",
   "execution_count": 11,
   "id": "34bec30f",
   "metadata": {
    "scrolled": true
   },
   "outputs": [],
   "source": [
    "DD = []\n",
    "for film in film_names:\n",
    "    res = dif.get_close_matches(film, subs_names, cutoff=0.75)\n",
    "    try:\n",
    "        score = dif.SequenceMatcher(None, film, res[0]).ratio()\n",
    "        DD.append([film, res[0], score])\n",
    "    except:\n",
    "        DD.append([film, None, None])\n",
    "    #print(f'film: {film},\\n res: {res} \\n')"
   ]
  },
  {
   "cell_type": "code",
   "execution_count": 12,
   "id": "872eb684",
   "metadata": {
    "scrolled": true
   },
   "outputs": [
    {
     "data": {
      "text/html": [
       "<div>\n",
       "<style scoped>\n",
       "    .dataframe tbody tr th:only-of-type {\n",
       "        vertical-align: middle;\n",
       "    }\n",
       "\n",
       "    .dataframe tbody tr th {\n",
       "        vertical-align: top;\n",
       "    }\n",
       "\n",
       "    .dataframe thead th {\n",
       "        text-align: right;\n",
       "    }\n",
       "</style>\n",
       "<table border=\"1\" class=\"dataframe\">\n",
       "  <thead>\n",
       "    <tr style=\"text-align: right;\">\n",
       "      <th></th>\n",
       "      <th>Movie</th>\n",
       "      <th>Subs</th>\n",
       "      <th>Score</th>\n",
       "    </tr>\n",
       "  </thead>\n",
       "  <tbody>\n",
       "    <tr>\n",
       "      <th>0</th>\n",
       "      <td>10 Cloverfield lane(2016)</td>\n",
       "      <td>10 Cloverfield lane(2016).srt</td>\n",
       "      <td>0.925926</td>\n",
       "    </tr>\n",
       "    <tr>\n",
       "      <th>1</th>\n",
       "      <td>10 things I hate about you(1999)</td>\n",
       "      <td>10 things I hate about you(1999).srt</td>\n",
       "      <td>0.941176</td>\n",
       "    </tr>\n",
       "    <tr>\n",
       "      <th>2</th>\n",
       "      <td>A knights tale(2001)</td>\n",
       "      <td>A knights tale(2001).srt</td>\n",
       "      <td>0.909091</td>\n",
       "    </tr>\n",
       "    <tr>\n",
       "      <th>3</th>\n",
       "      <td>A star is born(2018)</td>\n",
       "      <td>A star is born(2018).srt</td>\n",
       "      <td>0.909091</td>\n",
       "    </tr>\n",
       "    <tr>\n",
       "      <th>4</th>\n",
       "      <td>Aladdin(1992)</td>\n",
       "      <td>Aladdin(1992).srt</td>\n",
       "      <td>0.866667</td>\n",
       "    </tr>\n",
       "    <tr>\n",
       "      <th>...</th>\n",
       "      <td>...</td>\n",
       "      <td>...</td>\n",
       "      <td>...</td>\n",
       "    </tr>\n",
       "    <tr>\n",
       "      <th>236</th>\n",
       "      <td>Matilda(2022)</td>\n",
       "      <td>None</td>\n",
       "      <td>NaN</td>\n",
       "    </tr>\n",
       "    <tr>\n",
       "      <th>237</th>\n",
       "      <td>Bullet train</td>\n",
       "      <td>None</td>\n",
       "      <td>NaN</td>\n",
       "    </tr>\n",
       "    <tr>\n",
       "      <th>238</th>\n",
       "      <td>Thor: love and thunder</td>\n",
       "      <td>None</td>\n",
       "      <td>NaN</td>\n",
       "    </tr>\n",
       "    <tr>\n",
       "      <th>239</th>\n",
       "      <td>Lightyear</td>\n",
       "      <td>None</td>\n",
       "      <td>NaN</td>\n",
       "    </tr>\n",
       "    <tr>\n",
       "      <th>240</th>\n",
       "      <td>The Grinch</td>\n",
       "      <td>None</td>\n",
       "      <td>NaN</td>\n",
       "    </tr>\n",
       "  </tbody>\n",
       "</table>\n",
       "<p>241 rows × 3 columns</p>\n",
       "</div>"
      ],
      "text/plain": [
       "                                Movie                                  Subs  \\\n",
       "0           10 Cloverfield lane(2016)         10 Cloverfield lane(2016).srt   \n",
       "1    10 things I hate about you(1999)  10 things I hate about you(1999).srt   \n",
       "2                A knights tale(2001)              A knights tale(2001).srt   \n",
       "3                A star is born(2018)              A star is born(2018).srt   \n",
       "4                       Aladdin(1992)                     Aladdin(1992).srt   \n",
       "..                                ...                                   ...   \n",
       "236                     Matilda(2022)                                  None   \n",
       "237                      Bullet train                                  None   \n",
       "238            Thor: love and thunder                                  None   \n",
       "239                         Lightyear                                  None   \n",
       "240                        The Grinch                                  None   \n",
       "\n",
       "        Score  \n",
       "0    0.925926  \n",
       "1    0.941176  \n",
       "2    0.909091  \n",
       "3    0.909091  \n",
       "4    0.866667  \n",
       "..        ...  \n",
       "236       NaN  \n",
       "237       NaN  \n",
       "238       NaN  \n",
       "239       NaN  \n",
       "240       NaN  \n",
       "\n",
       "[241 rows x 3 columns]"
      ]
     },
     "execution_count": 12,
     "metadata": {},
     "output_type": "execute_result"
    }
   ],
   "source": [
    "df_names = pd.DataFrame(DD, columns=['Movie', 'Subs', 'Score'])\n",
    "df_names"
   ]
  },
  {
   "cell_type": "markdown",
   "id": "0c44a5c4",
   "metadata": {},
   "source": [
    "Параметр `Score` требуется для быстрого поиска потенциальных ошибок в сопоставлении."
   ]
  },
  {
   "cell_type": "markdown",
   "id": "19230067",
   "metadata": {},
   "source": [
    "Количество фильмов, для которых не удалось подобрать субтитры:"
   ]
  },
  {
   "cell_type": "code",
   "execution_count": 13,
   "id": "35209c67",
   "metadata": {},
   "outputs": [
    {
     "data": {
      "text/plain": [
       "7"
      ]
     },
     "execution_count": 13,
     "metadata": {},
     "output_type": "execute_result"
    }
   ],
   "source": [
    "df_names.Subs.isna().sum()"
   ]
  },
  {
   "cell_type": "markdown",
   "id": "f7699008",
   "metadata": {},
   "source": [
    "Их мало, уберём лишние:"
   ]
  },
  {
   "cell_type": "code",
   "execution_count": 14,
   "id": "3e6ad10a",
   "metadata": {},
   "outputs": [],
   "source": [
    "df_names = df_names[df_names.Subs.notna()]"
   ]
  },
  {
   "cell_type": "markdown",
   "id": "44e994fe",
   "metadata": {},
   "source": [
    "Выгрузим данные для в excel-файл для анализа: "
   ]
  },
  {
   "cell_type": "code",
   "execution_count": 15,
   "id": "4299431d",
   "metadata": {},
   "outputs": [],
   "source": [
    "df_names.to_excel('names.xlsx')"
   ]
  },
  {
   "cell_type": "markdown",
   "id": "4af626f3",
   "metadata": {},
   "source": [
    "Проверка файла xlsx показывает, что неверных сопоставлений нет."
   ]
  },
  {
   "cell_type": "markdown",
   "id": "f4eccfdc",
   "metadata": {},
   "source": [
    "## Cформируем таблицу с общей информацией о фильмах и субтитрах:"
   ]
  },
  {
   "cell_type": "markdown",
   "id": "7b74adad",
   "metadata": {},
   "source": [
    "Сначала избавимся от дубликатов:"
   ]
  },
  {
   "cell_type": "code",
   "execution_count": 16,
   "id": "82408f6d",
   "metadata": {
    "scrolled": true
   },
   "outputs": [],
   "source": [
    "df_films_data = df_films_data.drop_duplicates(ignore_index=True)\n",
    "df_subs_data = df_subs_data.drop_duplicates(subset='Subs', ignore_index=True)\n",
    "df_names = df_names.drop_duplicates(ignore_index=True);"
   ]
  },
  {
   "cell_type": "markdown",
   "id": "6da2503e",
   "metadata": {},
   "source": [
    "В таблице `df_join` будт результаты объединения:"
   ]
  },
  {
   "cell_type": "code",
   "execution_count": 17,
   "id": "1d6a90d4",
   "metadata": {},
   "outputs": [
    {
     "data": {
      "text/html": [
       "<div>\n",
       "<style scoped>\n",
       "    .dataframe tbody tr th:only-of-type {\n",
       "        vertical-align: middle;\n",
       "    }\n",
       "\n",
       "    .dataframe tbody tr th {\n",
       "        vertical-align: top;\n",
       "    }\n",
       "\n",
       "    .dataframe thead th {\n",
       "        text-align: right;\n",
       "    }\n",
       "</style>\n",
       "<table border=\"1\" class=\"dataframe\">\n",
       "  <thead>\n",
       "    <tr style=\"text-align: right;\">\n",
       "      <th></th>\n",
       "      <th>Movie</th>\n",
       "      <th>Level</th>\n",
       "      <th>Subs</th>\n",
       "      <th>Score</th>\n",
       "      <th>Subs_Data</th>\n",
       "    </tr>\n",
       "  </thead>\n",
       "  <tbody>\n",
       "    <tr>\n",
       "      <th>0</th>\n",
       "      <td>10 Cloverfield lane(2016)</td>\n",
       "      <td>B1</td>\n",
       "      <td>10 Cloverfield lane(2016).srt</td>\n",
       "      <td>0.925926</td>\n",
       "      <td>[1\\n00:00:55,279 --&gt; 00:01:07,279\\n&lt;font color...</td>\n",
       "    </tr>\n",
       "    <tr>\n",
       "      <th>1</th>\n",
       "      <td>10 things I hate about you(1999)</td>\n",
       "      <td>B1</td>\n",
       "      <td>10 things I hate about you(1999).srt</td>\n",
       "      <td>0.941176</td>\n",
       "      <td>[1\\n00:01:54,281 --&gt; 00:01:55,698\\nHey!\\n, 2\\n...</td>\n",
       "    </tr>\n",
       "    <tr>\n",
       "      <th>2</th>\n",
       "      <td>A knights tale(2001)</td>\n",
       "      <td>B2</td>\n",
       "      <td>A knights tale(2001).srt</td>\n",
       "      <td>0.909091</td>\n",
       "      <td>[1\\n00:00:15,089 --&gt; 00:00:21,229\\nResync: Xen...</td>\n",
       "    </tr>\n",
       "    <tr>\n",
       "      <th>3</th>\n",
       "      <td>A star is born(2018)</td>\n",
       "      <td>B2</td>\n",
       "      <td>A star is born(2018).srt</td>\n",
       "      <td>0.909091</td>\n",
       "      <td>[1\\n00:00:17,610 --&gt; 00:00:22,610\\n- &lt;i&gt;&lt;font ...</td>\n",
       "    </tr>\n",
       "    <tr>\n",
       "      <th>4</th>\n",
       "      <td>Aladdin(1992)</td>\n",
       "      <td>A2/A2+</td>\n",
       "      <td>Aladdin(1992).srt</td>\n",
       "      <td>0.866667</td>\n",
       "      <td>[1\\n00:00:27,240 --&gt; 00:00:30,879\\n&lt;i&gt;Oh, I co...</td>\n",
       "    </tr>\n",
       "    <tr>\n",
       "      <th>...</th>\n",
       "      <td>...</td>\n",
       "      <td>...</td>\n",
       "      <td>...</td>\n",
       "      <td>...</td>\n",
       "      <td>...</td>\n",
       "    </tr>\n",
       "    <tr>\n",
       "      <th>234</th>\n",
       "      <td>Matilda(2022)</td>\n",
       "      <td>C1</td>\n",
       "      <td>NaN</td>\n",
       "      <td>NaN</td>\n",
       "      <td>NaN</td>\n",
       "    </tr>\n",
       "    <tr>\n",
       "      <th>235</th>\n",
       "      <td>Bullet train</td>\n",
       "      <td>B1</td>\n",
       "      <td>NaN</td>\n",
       "      <td>NaN</td>\n",
       "      <td>NaN</td>\n",
       "    </tr>\n",
       "    <tr>\n",
       "      <th>236</th>\n",
       "      <td>Thor: love and thunder</td>\n",
       "      <td>B2</td>\n",
       "      <td>NaN</td>\n",
       "      <td>NaN</td>\n",
       "      <td>NaN</td>\n",
       "    </tr>\n",
       "    <tr>\n",
       "      <th>237</th>\n",
       "      <td>Lightyear</td>\n",
       "      <td>B2</td>\n",
       "      <td>NaN</td>\n",
       "      <td>NaN</td>\n",
       "      <td>NaN</td>\n",
       "    </tr>\n",
       "    <tr>\n",
       "      <th>238</th>\n",
       "      <td>The Grinch</td>\n",
       "      <td>B1</td>\n",
       "      <td>NaN</td>\n",
       "      <td>NaN</td>\n",
       "      <td>NaN</td>\n",
       "    </tr>\n",
       "  </tbody>\n",
       "</table>\n",
       "<p>239 rows × 5 columns</p>\n",
       "</div>"
      ],
      "text/plain": [
       "                                Movie   Level  \\\n",
       "0           10 Cloverfield lane(2016)      B1   \n",
       "1    10 things I hate about you(1999)      B1   \n",
       "2                A knights tale(2001)      B2   \n",
       "3                A star is born(2018)      B2   \n",
       "4                       Aladdin(1992)  A2/A2+   \n",
       "..                                ...     ...   \n",
       "234                     Matilda(2022)      C1   \n",
       "235                      Bullet train      B1   \n",
       "236            Thor: love and thunder      B2   \n",
       "237                         Lightyear      B2   \n",
       "238                        The Grinch      B1   \n",
       "\n",
       "                                     Subs     Score  \\\n",
       "0           10 Cloverfield lane(2016).srt  0.925926   \n",
       "1    10 things I hate about you(1999).srt  0.941176   \n",
       "2                A knights tale(2001).srt  0.909091   \n",
       "3                A star is born(2018).srt  0.909091   \n",
       "4                       Aladdin(1992).srt  0.866667   \n",
       "..                                    ...       ...   \n",
       "234                                   NaN       NaN   \n",
       "235                                   NaN       NaN   \n",
       "236                                   NaN       NaN   \n",
       "237                                   NaN       NaN   \n",
       "238                                   NaN       NaN   \n",
       "\n",
       "                                             Subs_Data  \n",
       "0    [1\\n00:00:55,279 --> 00:01:07,279\\n<font color...  \n",
       "1    [1\\n00:01:54,281 --> 00:01:55,698\\nHey!\\n, 2\\n...  \n",
       "2    [1\\n00:00:15,089 --> 00:00:21,229\\nResync: Xen...  \n",
       "3    [1\\n00:00:17,610 --> 00:00:22,610\\n- <i><font ...  \n",
       "4    [1\\n00:00:27,240 --> 00:00:30,879\\n<i>Oh, I co...  \n",
       "..                                                 ...  \n",
       "234                                                NaN  \n",
       "235                                                NaN  \n",
       "236                                                NaN  \n",
       "237                                                NaN  \n",
       "238                                                NaN  \n",
       "\n",
       "[239 rows x 5 columns]"
      ]
     },
     "execution_count": 17,
     "metadata": {},
     "output_type": "execute_result"
    }
   ],
   "source": [
    "df_join = df_films_data.merge(df_names, how='left', on='Movie')\\\n",
    ".merge(df_subs_data, how='left', on='Subs')\n",
    "df_join"
   ]
  },
  {
   "cell_type": "markdown",
   "id": "543960c6",
   "metadata": {},
   "source": [
    "Было 239 и стало 239 после последнего merge (второго и последнего)"
   ]
  },
  {
   "cell_type": "markdown",
   "id": "d806276e",
   "metadata": {},
   "source": [
    "Есть дубликаты по названиям:"
   ]
  },
  {
   "cell_type": "code",
   "execution_count": 18,
   "id": "99fc2aad",
   "metadata": {},
   "outputs": [
    {
     "data": {
      "text/html": [
       "<div>\n",
       "<style scoped>\n",
       "    .dataframe tbody tr th:only-of-type {\n",
       "        vertical-align: middle;\n",
       "    }\n",
       "\n",
       "    .dataframe tbody tr th {\n",
       "        vertical-align: top;\n",
       "    }\n",
       "\n",
       "    .dataframe thead th {\n",
       "        text-align: right;\n",
       "    }\n",
       "</style>\n",
       "<table border=\"1\" class=\"dataframe\">\n",
       "  <thead>\n",
       "    <tr style=\"text-align: right;\">\n",
       "      <th></th>\n",
       "      <th>Movie</th>\n",
       "      <th>Level</th>\n",
       "      <th>Subs</th>\n",
       "      <th>Score</th>\n",
       "      <th>Subs_Data</th>\n",
       "    </tr>\n",
       "  </thead>\n",
       "  <tbody>\n",
       "    <tr>\n",
       "      <th>73</th>\n",
       "      <td>The blind side(2009)</td>\n",
       "      <td>B2</td>\n",
       "      <td>The blind side(2009).srt</td>\n",
       "      <td>0.909091</td>\n",
       "      <td>[1\\n00:00:29,405 --&gt; 00:00:31,989\\n[CROWD CHEE...</td>\n",
       "    </tr>\n",
       "    <tr>\n",
       "      <th>81</th>\n",
       "      <td>The terminal(2004)</td>\n",
       "      <td>B1</td>\n",
       "      <td>The terminal(2004).srt</td>\n",
       "      <td>0.900000</td>\n",
       "      <td>[1\\n00:00:26,200 --&gt; 00:00:27,918\\n&lt;font color...</td>\n",
       "    </tr>\n",
       "    <tr>\n",
       "      <th>82</th>\n",
       "      <td>The blind side(2009)</td>\n",
       "      <td>B1</td>\n",
       "      <td>The blind side(2009).srt</td>\n",
       "      <td>0.909091</td>\n",
       "      <td>[1\\n00:00:29,405 --&gt; 00:00:31,989\\n[CROWD CHEE...</td>\n",
       "    </tr>\n",
       "    <tr>\n",
       "      <th>97</th>\n",
       "      <td>The terminal(2004)</td>\n",
       "      <td>A2/A2+, B1</td>\n",
       "      <td>The terminal(2004).srt</td>\n",
       "      <td>0.900000</td>\n",
       "      <td>[1\\n00:00:26,200 --&gt; 00:00:27,918\\n&lt;font color...</td>\n",
       "    </tr>\n",
       "  </tbody>\n",
       "</table>\n",
       "</div>"
      ],
      "text/plain": [
       "                   Movie       Level                      Subs     Score  \\\n",
       "73  The blind side(2009)          B2  The blind side(2009).srt  0.909091   \n",
       "81    The terminal(2004)          B1    The terminal(2004).srt  0.900000   \n",
       "82  The blind side(2009)          B1  The blind side(2009).srt  0.909091   \n",
       "97    The terminal(2004)  A2/A2+, B1    The terminal(2004).srt  0.900000   \n",
       "\n",
       "                                            Subs_Data  \n",
       "73  [1\\n00:00:29,405 --> 00:00:31,989\\n[CROWD CHEE...  \n",
       "81  [1\\n00:00:26,200 --> 00:00:27,918\\n<font color...  \n",
       "82  [1\\n00:00:29,405 --> 00:00:31,989\\n[CROWD CHEE...  \n",
       "97  [1\\n00:00:26,200 --> 00:00:27,918\\n<font color...  "
      ]
     },
     "execution_count": 18,
     "metadata": {},
     "output_type": "execute_result"
    }
   ],
   "source": [
    "df_join[df_join.duplicated(subset=['Movie'], keep=False)]"
   ]
  },
  {
   "cell_type": "markdown",
   "id": "92c60a3b",
   "metadata": {},
   "source": [
    "Уберём эти дубликаты, присвоив каждому фильму высшую категорию сложности из возможных альтернатив:"
   ]
  },
  {
   "cell_type": "code",
   "execution_count": 19,
   "id": "04e657e0",
   "metadata": {},
   "outputs": [],
   "source": [
    "df_join.loc[82, 'Level'] = 'B2'\n",
    "df_join.loc[97, 'Level'] = 'B1'"
   ]
  },
  {
   "cell_type": "code",
   "execution_count": 20,
   "id": "f8516a47",
   "metadata": {},
   "outputs": [],
   "source": [
    "df_join = df_join.drop_duplicates(subset=['Movie', 'Level', 'Subs', 'Score'], ignore_index=True);"
   ]
  },
  {
   "cell_type": "markdown",
   "id": "debe58a1",
   "metadata": {},
   "source": [
    "Уберём фильмы, которым не удалось поставить в соответствие субтитры"
   ]
  },
  {
   "cell_type": "code",
   "execution_count": 21,
   "id": "4059940d",
   "metadata": {},
   "outputs": [],
   "source": [
    "df_join = df_join[df_join.Subs_Data.notna()]"
   ]
  },
  {
   "cell_type": "markdown",
   "id": "c8e6f0de",
   "metadata": {},
   "source": [
    "Уберём столбцы, не участвующие в обучении:"
   ]
  },
  {
   "cell_type": "code",
   "execution_count": 22,
   "id": "66e43917",
   "metadata": {},
   "outputs": [],
   "source": [
    "df_join = df_join.drop(['Movie', 'Subs', 'Score'], axis=1)"
   ]
  },
  {
   "cell_type": "markdown",
   "id": "dbf7e85d",
   "metadata": {},
   "source": [
    "Поменяем переходные уровни сложности `A2/A2+` на `A2`, `B1, B2` на `B2`, `A2/A2+, B1` на `B1`:"
   ]
  },
  {
   "cell_type": "code",
   "execution_count": 23,
   "id": "aa28e50b",
   "metadata": {},
   "outputs": [],
   "source": [
    "df_join.Level.replace({'A2/A2+' : 'A2', 'B1, B2' : 'B2', 'A2/A2+, B1' : 'B1'}, inplace=True)"
   ]
  },
  {
   "cell_type": "code",
   "execution_count": 24,
   "id": "bb10a345",
   "metadata": {},
   "outputs": [
    {
     "data": {
      "text/plain": [
       "array(['B1', 'B2', 'A2', 'C1'], dtype=object)"
      ]
     },
     "execution_count": 24,
     "metadata": {},
     "output_type": "execute_result"
    }
   ],
   "source": [
    "df_join.Level.unique()"
   ]
  },
  {
   "cell_type": "markdown",
   "id": "fa4e1696",
   "metadata": {},
   "source": [
    "Убираем данные без субтитров:"
   ]
  },
  {
   "cell_type": "code",
   "execution_count": 25,
   "id": "9a157c6f",
   "metadata": {},
   "outputs": [],
   "source": [
    "df_join = df_join[df_join.Subs_Data.apply(lambda x: len(x) != 0)]"
   ]
  },
  {
   "cell_type": "code",
   "execution_count": 26,
   "id": "2376e490",
   "metadata": {},
   "outputs": [],
   "source": [
    "df_join = df_join.reset_index(drop=True)"
   ]
  },
  {
   "cell_type": "markdown",
   "id": "2fc93490",
   "metadata": {},
   "source": [
    "Итоговая таблица для обучения:"
   ]
  },
  {
   "cell_type": "code",
   "execution_count": 27,
   "id": "c3ee301d",
   "metadata": {},
   "outputs": [
    {
     "data": {
      "text/html": [
       "<div>\n",
       "<style scoped>\n",
       "    .dataframe tbody tr th:only-of-type {\n",
       "        vertical-align: middle;\n",
       "    }\n",
       "\n",
       "    .dataframe tbody tr th {\n",
       "        vertical-align: top;\n",
       "    }\n",
       "\n",
       "    .dataframe thead th {\n",
       "        text-align: right;\n",
       "    }\n",
       "</style>\n",
       "<table border=\"1\" class=\"dataframe\">\n",
       "  <thead>\n",
       "    <tr style=\"text-align: right;\">\n",
       "      <th></th>\n",
       "      <th>Level</th>\n",
       "      <th>Subs_Data</th>\n",
       "    </tr>\n",
       "  </thead>\n",
       "  <tbody>\n",
       "    <tr>\n",
       "      <th>0</th>\n",
       "      <td>B1</td>\n",
       "      <td>[1\\n00:00:55,279 --&gt; 00:01:07,279\\n&lt;font color...</td>\n",
       "    </tr>\n",
       "    <tr>\n",
       "      <th>1</th>\n",
       "      <td>B1</td>\n",
       "      <td>[1\\n00:01:54,281 --&gt; 00:01:55,698\\nHey!\\n, 2\\n...</td>\n",
       "    </tr>\n",
       "    <tr>\n",
       "      <th>2</th>\n",
       "      <td>B2</td>\n",
       "      <td>[1\\n00:00:15,089 --&gt; 00:00:21,229\\nResync: Xen...</td>\n",
       "    </tr>\n",
       "    <tr>\n",
       "      <th>3</th>\n",
       "      <td>B2</td>\n",
       "      <td>[1\\n00:00:17,610 --&gt; 00:00:22,610\\n- &lt;i&gt;&lt;font ...</td>\n",
       "    </tr>\n",
       "    <tr>\n",
       "      <th>4</th>\n",
       "      <td>A2</td>\n",
       "      <td>[1\\n00:00:27,240 --&gt; 00:00:30,879\\n&lt;i&gt;Oh, I co...</td>\n",
       "    </tr>\n",
       "    <tr>\n",
       "      <th>...</th>\n",
       "      <td>...</td>\n",
       "      <td>...</td>\n",
       "    </tr>\n",
       "    <tr>\n",
       "      <th>209</th>\n",
       "      <td>C1</td>\n",
       "      <td>[ï»¿1\\n00:00:01,383 --&gt; 00:00:02,751\\nI lost A...</td>\n",
       "    </tr>\n",
       "    <tr>\n",
       "      <th>210</th>\n",
       "      <td>C1</td>\n",
       "      <td>[ï»¿1\\n00:00:00,052 --&gt; 00:00:01,352\\nPrevious...</td>\n",
       "    </tr>\n",
       "    <tr>\n",
       "      <th>211</th>\n",
       "      <td>C1</td>\n",
       "      <td>[ï»¿1\\n00:00:01,436 --&gt; 00:00:03,028\\nI get Av...</td>\n",
       "    </tr>\n",
       "    <tr>\n",
       "      <th>212</th>\n",
       "      <td>C1</td>\n",
       "      <td>[ï»¿1\\n00:00:00,024 --&gt; 00:00:01,478\\nPrevious...</td>\n",
       "    </tr>\n",
       "    <tr>\n",
       "      <th>213</th>\n",
       "      <td>C1</td>\n",
       "      <td>[ï»¿1\\n00:00:00,015 --&gt; 00:00:01,196\\nPrevious...</td>\n",
       "    </tr>\n",
       "  </tbody>\n",
       "</table>\n",
       "<p>214 rows × 2 columns</p>\n",
       "</div>"
      ],
      "text/plain": [
       "    Level                                          Subs_Data\n",
       "0      B1  [1\\n00:00:55,279 --> 00:01:07,279\\n<font color...\n",
       "1      B1  [1\\n00:01:54,281 --> 00:01:55,698\\nHey!\\n, 2\\n...\n",
       "2      B2  [1\\n00:00:15,089 --> 00:00:21,229\\nResync: Xen...\n",
       "3      B2  [1\\n00:00:17,610 --> 00:00:22,610\\n- <i><font ...\n",
       "4      A2  [1\\n00:00:27,240 --> 00:00:30,879\\n<i>Oh, I co...\n",
       "..    ...                                                ...\n",
       "209    C1  [ï»¿1\\n00:00:01,383 --> 00:00:02,751\\nI lost A...\n",
       "210    C1  [ï»¿1\\n00:00:00,052 --> 00:00:01,352\\nPrevious...\n",
       "211    C1  [ï»¿1\\n00:00:01,436 --> 00:00:03,028\\nI get Av...\n",
       "212    C1  [ï»¿1\\n00:00:00,024 --> 00:00:01,478\\nPrevious...\n",
       "213    C1  [ï»¿1\\n00:00:00,015 --> 00:00:01,196\\nPrevious...\n",
       "\n",
       "[214 rows x 2 columns]"
      ]
     },
     "execution_count": 27,
     "metadata": {},
     "output_type": "execute_result"
    }
   ],
   "source": [
    "df_join"
   ]
  },
  {
   "cell_type": "code",
   "execution_count": 28,
   "id": "34fe3abc",
   "metadata": {},
   "outputs": [
    {
     "data": {
      "text/plain": [
       "(214, 2)"
      ]
     },
     "execution_count": 28,
     "metadata": {},
     "output_type": "execute_result"
    }
   ],
   "source": [
    "df_join.shape"
   ]
  },
  {
   "cell_type": "code",
   "execution_count": 29,
   "id": "c2142cad",
   "metadata": {},
   "outputs": [
    {
     "data": {
      "text/plain": [
       "Level        0\n",
       "Subs_Data    0\n",
       "dtype: int64"
      ]
     },
     "execution_count": 29,
     "metadata": {},
     "output_type": "execute_result"
    }
   ],
   "source": [
    "df_join[df_join['Level'].apply(lambda x: len(x) > 2)].count()"
   ]
  },
  {
   "cell_type": "markdown",
   "id": "a66a7f72",
   "metadata": {},
   "source": [
    "После всех манипуляций количество записей сократилось с 241 до 214."
   ]
  },
  {
   "cell_type": "markdown",
   "id": "e909bb37",
   "metadata": {},
   "source": [
    "## Преобразуем категориальные признаки (уровни сложности) в количественные:"
   ]
  },
  {
   "cell_type": "code",
   "execution_count": 30,
   "id": "513a897b",
   "metadata": {},
   "outputs": [
    {
     "data": {
      "text/plain": [
       "OrdinalEncoder(dtype='int64')"
      ]
     },
     "execution_count": 30,
     "metadata": {},
     "output_type": "execute_result"
    }
   ],
   "source": [
    "encoder = OrdinalEncoder(dtype='int64')\n",
    "encoder.fit(df_join.Level.to_frame())"
   ]
  },
  {
   "cell_type": "code",
   "execution_count": 31,
   "id": "4f240f19",
   "metadata": {},
   "outputs": [],
   "source": [
    "S = pd.Series([i[0] for i in encoder.transform(df_join.loc[:, 'Level'].to_frame())])\n",
    "S.reset_index(drop=True);"
   ]
  },
  {
   "cell_type": "code",
   "execution_count": 32,
   "id": "c75e87af",
   "metadata": {},
   "outputs": [],
   "source": [
    "df_join = pd.concat([df_join, S], axis=1)\n",
    "df_join = df_join.drop('Level', axis=1)\n",
    "df_join.rename({0: 'Level'}, axis=1, inplace=True)"
   ]
  },
  {
   "cell_type": "markdown",
   "id": "c67705da",
   "metadata": {},
   "source": [
    "Итоговая таблица для обучения:"
   ]
  },
  {
   "cell_type": "code",
   "execution_count": 33,
   "id": "b913d16b",
   "metadata": {},
   "outputs": [
    {
     "data": {
      "text/html": [
       "<div>\n",
       "<style scoped>\n",
       "    .dataframe tbody tr th:only-of-type {\n",
       "        vertical-align: middle;\n",
       "    }\n",
       "\n",
       "    .dataframe tbody tr th {\n",
       "        vertical-align: top;\n",
       "    }\n",
       "\n",
       "    .dataframe thead th {\n",
       "        text-align: right;\n",
       "    }\n",
       "</style>\n",
       "<table border=\"1\" class=\"dataframe\">\n",
       "  <thead>\n",
       "    <tr style=\"text-align: right;\">\n",
       "      <th></th>\n",
       "      <th>Subs_Data</th>\n",
       "      <th>Level</th>\n",
       "    </tr>\n",
       "  </thead>\n",
       "  <tbody>\n",
       "    <tr>\n",
       "      <th>0</th>\n",
       "      <td>[1\\n00:00:55,279 --&gt; 00:01:07,279\\n&lt;font color...</td>\n",
       "      <td>1</td>\n",
       "    </tr>\n",
       "    <tr>\n",
       "      <th>1</th>\n",
       "      <td>[1\\n00:01:54,281 --&gt; 00:01:55,698\\nHey!\\n, 2\\n...</td>\n",
       "      <td>1</td>\n",
       "    </tr>\n",
       "    <tr>\n",
       "      <th>2</th>\n",
       "      <td>[1\\n00:00:15,089 --&gt; 00:00:21,229\\nResync: Xen...</td>\n",
       "      <td>2</td>\n",
       "    </tr>\n",
       "    <tr>\n",
       "      <th>3</th>\n",
       "      <td>[1\\n00:00:17,610 --&gt; 00:00:22,610\\n- &lt;i&gt;&lt;font ...</td>\n",
       "      <td>2</td>\n",
       "    </tr>\n",
       "    <tr>\n",
       "      <th>4</th>\n",
       "      <td>[1\\n00:00:27,240 --&gt; 00:00:30,879\\n&lt;i&gt;Oh, I co...</td>\n",
       "      <td>0</td>\n",
       "    </tr>\n",
       "    <tr>\n",
       "      <th>...</th>\n",
       "      <td>...</td>\n",
       "      <td>...</td>\n",
       "    </tr>\n",
       "    <tr>\n",
       "      <th>209</th>\n",
       "      <td>[ï»¿1\\n00:00:01,383 --&gt; 00:00:02,751\\nI lost A...</td>\n",
       "      <td>3</td>\n",
       "    </tr>\n",
       "    <tr>\n",
       "      <th>210</th>\n",
       "      <td>[ï»¿1\\n00:00:00,052 --&gt; 00:00:01,352\\nPrevious...</td>\n",
       "      <td>3</td>\n",
       "    </tr>\n",
       "    <tr>\n",
       "      <th>211</th>\n",
       "      <td>[ï»¿1\\n00:00:01,436 --&gt; 00:00:03,028\\nI get Av...</td>\n",
       "      <td>3</td>\n",
       "    </tr>\n",
       "    <tr>\n",
       "      <th>212</th>\n",
       "      <td>[ï»¿1\\n00:00:00,024 --&gt; 00:00:01,478\\nPrevious...</td>\n",
       "      <td>3</td>\n",
       "    </tr>\n",
       "    <tr>\n",
       "      <th>213</th>\n",
       "      <td>[ï»¿1\\n00:00:00,015 --&gt; 00:00:01,196\\nPrevious...</td>\n",
       "      <td>3</td>\n",
       "    </tr>\n",
       "  </tbody>\n",
       "</table>\n",
       "<p>214 rows × 2 columns</p>\n",
       "</div>"
      ],
      "text/plain": [
       "                                             Subs_Data  Level\n",
       "0    [1\\n00:00:55,279 --> 00:01:07,279\\n<font color...      1\n",
       "1    [1\\n00:01:54,281 --> 00:01:55,698\\nHey!\\n, 2\\n...      1\n",
       "2    [1\\n00:00:15,089 --> 00:00:21,229\\nResync: Xen...      2\n",
       "3    [1\\n00:00:17,610 --> 00:00:22,610\\n- <i><font ...      2\n",
       "4    [1\\n00:00:27,240 --> 00:00:30,879\\n<i>Oh, I co...      0\n",
       "..                                                 ...    ...\n",
       "209  [ï»¿1\\n00:00:01,383 --> 00:00:02,751\\nI lost A...      3\n",
       "210  [ï»¿1\\n00:00:00,052 --> 00:00:01,352\\nPrevious...      3\n",
       "211  [ï»¿1\\n00:00:01,436 --> 00:00:03,028\\nI get Av...      3\n",
       "212  [ï»¿1\\n00:00:00,024 --> 00:00:01,478\\nPrevious...      3\n",
       "213  [ï»¿1\\n00:00:00,015 --> 00:00:01,196\\nPrevious...      3\n",
       "\n",
       "[214 rows x 2 columns]"
      ]
     },
     "execution_count": 33,
     "metadata": {},
     "output_type": "execute_result"
    }
   ],
   "source": [
    "df_join"
   ]
  },
  {
   "cell_type": "markdown",
   "id": "0181fae5",
   "metadata": {},
   "source": [
    "Её размеры:"
   ]
  },
  {
   "cell_type": "code",
   "execution_count": 34,
   "id": "f7dbec96",
   "metadata": {},
   "outputs": [
    {
     "data": {
      "text/plain": [
       "(214, 2)"
      ]
     },
     "execution_count": 34,
     "metadata": {},
     "output_type": "execute_result"
    }
   ],
   "source": [
    "df_join.shape"
   ]
  },
  {
   "cell_type": "markdown",
   "id": "9acc79c3",
   "metadata": {},
   "source": [
    "# Обучение моделей:"
   ]
  },
  {
   "cell_type": "markdown",
   "id": "b638d9aa",
   "metadata": {},
   "source": [
    "## Разделяем данные на тренировочную и тестовые выборки:"
   ]
  },
  {
   "cell_type": "code",
   "execution_count": 35,
   "id": "45dbc31d",
   "metadata": {},
   "outputs": [],
   "source": [
    "x = df_join.Subs_Data\n",
    "y = df_join.Level"
   ]
  },
  {
   "cell_type": "code",
   "execution_count": 36,
   "id": "47ed5dba",
   "metadata": {},
   "outputs": [],
   "source": [
    "x_train, x_test, y_train, y_test = train_test_split(x, y, random_state = 12345, test_size=0.3, stratify=y)"
   ]
  },
  {
   "cell_type": "code",
   "execution_count": 37,
   "id": "d0394e42",
   "metadata": {},
   "outputs": [],
   "source": [
    "x_train = x_train.apply(lambda x: clean_subs(x.text))\n",
    "x_test = x_test.apply(lambda x: clean_subs(x.text))"
   ]
  },
  {
   "cell_type": "markdown",
   "id": "da3dbe63",
   "metadata": {},
   "source": [
    "## Векторизация данных:"
   ]
  },
  {
   "cell_type": "markdown",
   "id": "f3980cd6",
   "metadata": {},
   "source": [
    "### Методом TF-Idf"
   ]
  },
  {
   "cell_type": "markdown",
   "id": "5e9e651e",
   "metadata": {},
   "source": [
    "Значение параметра ngram_range равное (1,3) даёт наилучший результат:"
   ]
  },
  {
   "cell_type": "code",
   "execution_count": 38,
   "id": "88619ab1",
   "metadata": {},
   "outputs": [],
   "source": [
    "vect_tf = TfidfVectorizer(ngram_range=(1,3))"
   ]
  },
  {
   "cell_type": "code",
   "execution_count": 39,
   "id": "d6ff7391",
   "metadata": {},
   "outputs": [],
   "source": [
    "x_train_tf = vect_tf.fit_transform(x_train)\n",
    "x_test_tf = vect_tf.transform(x_test)"
   ]
  },
  {
   "cell_type": "markdown",
   "id": "0f4687f7",
   "metadata": {},
   "source": [
    "### Методом BOW"
   ]
  },
  {
   "cell_type": "markdown",
   "id": "caed1298",
   "metadata": {},
   "source": [
    "Значение параметра `ngram_range` равное (1,3) даёт наилучший результат:"
   ]
  },
  {
   "cell_type": "code",
   "execution_count": 40,
   "id": "f0aca609",
   "metadata": {},
   "outputs": [],
   "source": [
    "vect_bow = CountVectorizer(ngram_range=(1,3))"
   ]
  },
  {
   "cell_type": "code",
   "execution_count": 41,
   "id": "c138469a",
   "metadata": {},
   "outputs": [],
   "source": [
    "x_train_bow = vect_bow.fit_transform(x_train)\n",
    "x_test_bow = vect_bow.transform(x_test)"
   ]
  },
  {
   "cell_type": "markdown",
   "id": "86c34879",
   "metadata": {},
   "source": [
    "## Получение предсказаний:"
   ]
  },
  {
   "cell_type": "markdown",
   "id": "1bef2883",
   "metadata": {},
   "source": [
    "### TF-Idf + Naive Bayes classifier"
   ]
  },
  {
   "cell_type": "code",
   "execution_count": 42,
   "id": "800f7398",
   "metadata": {
    "scrolled": true
   },
   "outputs": [],
   "source": [
    "clf = MultinomialNB()\n",
    "clf.fit(x_train_tf, y_train)\n",
    "\n",
    "y_pred = clf.predict(x_test_tf)"
   ]
  },
  {
   "cell_type": "markdown",
   "id": "8d7d2f8f",
   "metadata": {},
   "source": [
    "Точность предсказаний:"
   ]
  },
  {
   "cell_type": "code",
   "execution_count": 43,
   "id": "9f11ec4d",
   "metadata": {},
   "outputs": [
    {
     "data": {
      "text/plain": [
       "0.492"
      ]
     },
     "execution_count": 43,
     "metadata": {},
     "output_type": "execute_result"
    }
   ],
   "source": [
    "round(accuracy_score(y_test, y_pred), 3)"
   ]
  },
  {
   "cell_type": "markdown",
   "id": "b044b0d0",
   "metadata": {},
   "source": [
    "F1-мера:"
   ]
  },
  {
   "cell_type": "code",
   "execution_count": 44,
   "id": "357833ee",
   "metadata": {},
   "outputs": [
    {
     "data": {
      "text/plain": [
       "0.492"
      ]
     },
     "execution_count": 44,
     "metadata": {},
     "output_type": "execute_result"
    }
   ],
   "source": [
    "round(f1_score(y_test, y_pred, average='micro'), 3)"
   ]
  },
  {
   "cell_type": "markdown",
   "id": "017b3dbd",
   "metadata": {},
   "source": [
    "Матрица ошибок:"
   ]
  },
  {
   "cell_type": "code",
   "execution_count": 45,
   "id": "fce438cc",
   "metadata": {},
   "outputs": [
    {
     "data": {
      "image/png": "[encoded data removed]",
      "text/plain": [
       "<Figure size 500x300 with 2 Axes>"
      ]
     },
     "metadata": {},
     "output_type": "display_data"
    }
   ],
   "source": [
    "cm = confusion_matrix(y_test, y_pred)\n",
    "plt.figure(figsize=(5, 3))\n",
    "sns.heatmap(cm, annot=True, fmt='d')\n",
    "plt.title('Test Confusion Matrix')\n",
    "plt.show()"
   ]
  },
  {
   "cell_type": "markdown",
   "id": "376add53",
   "metadata": {},
   "source": [
    "### BOW + Naive Bayes classifier"
   ]
  },
  {
   "cell_type": "code",
   "execution_count": 46,
   "id": "b6653a10",
   "metadata": {},
   "outputs": [],
   "source": [
    "clf = MultinomialNB()\n",
    "clf.fit(x_train_bow, y_train)\n",
    "\n",
    "y_pred = clf.predict(x_test_bow)"
   ]
  },
  {
   "cell_type": "markdown",
   "id": "d0231959",
   "metadata": {},
   "source": [
    "Точность предсказаний:"
   ]
  },
  {
   "cell_type": "code",
   "execution_count": 47,
   "id": "adb60c12",
   "metadata": {},
   "outputs": [
    {
     "data": {
      "text/plain": [
       "0.508"
      ]
     },
     "execution_count": 47,
     "metadata": {},
     "output_type": "execute_result"
    }
   ],
   "source": [
    "round(accuracy_score(y_test, y_pred), 3)"
   ]
  },
  {
   "cell_type": "markdown",
   "id": "163f164f",
   "metadata": {},
   "source": [
    "F1-мера:"
   ]
  },
  {
   "cell_type": "code",
   "execution_count": 48,
   "id": "b1086f00",
   "metadata": {},
   "outputs": [
    {
     "data": {
      "text/plain": [
       "0.508"
      ]
     },
     "execution_count": 48,
     "metadata": {},
     "output_type": "execute_result"
    }
   ],
   "source": [
    "round(f1_score(y_test, y_pred, average='micro'), 3)"
   ]
  },
  {
   "cell_type": "markdown",
   "id": "ee0919e9",
   "metadata": {},
   "source": [
    "Матрица ошибок:"
   ]
  },
  {
   "cell_type": "code",
   "execution_count": 49,
   "id": "e285a0c5",
   "metadata": {
    "scrolled": true
   },
   "outputs": [
    {
     "data": {
      "image/png": "[encoded data removed]",
      "text/plain": [
       "<Figure size 500x300 with 2 Axes>"
      ]
     },
     "metadata": {},
     "output_type": "display_data"
    }
   ],
   "source": [
    "cm = confusion_matrix(y_test, y_pred)\n",
    "plt.figure(figsize=(5, 3))\n",
    "sns.heatmap(cm, annot=True, fmt='d')\n",
    "plt.title('Test Confusion Matrix')\n",
    "plt.show()"
   ]
  },
  {
   "cell_type": "markdown",
   "id": "0fd9abe2",
   "metadata": {},
   "source": [
    "## LogisticRegression + TF-Idf"
   ]
  },
  {
   "cell_type": "code",
   "execution_count": 50,
   "id": "f4a991e5",
   "metadata": {},
   "outputs": [],
   "source": [
    "clf = LogisticRegression(random_state=1345072986, solver='lbfgs', class_weight='balanced')\n",
    "clf.fit(x_train_tf, y_train)\n",
    "\n",
    "y_pred = clf.predict(x_test_tf)"
   ]
  },
  {
   "cell_type": "markdown",
   "id": "b57cd520",
   "metadata": {},
   "source": [
    "Точность предсказаний:"
   ]
  },
  {
   "cell_type": "code",
   "execution_count": 51,
   "id": "92a0f578",
   "metadata": {},
   "outputs": [
    {
     "data": {
      "text/plain": [
       "0.692"
      ]
     },
     "execution_count": 51,
     "metadata": {},
     "output_type": "execute_result"
    }
   ],
   "source": [
    "round(accuracy_score(y_test, y_pred), 3)"
   ]
  },
  {
   "cell_type": "markdown",
   "id": "84bb9343",
   "metadata": {},
   "source": [
    "F1-мера:"
   ]
  },
  {
   "cell_type": "code",
   "execution_count": 52,
   "id": "a15c0a63",
   "metadata": {},
   "outputs": [
    {
     "data": {
      "text/plain": [
       "0.692"
      ]
     },
     "execution_count": 52,
     "metadata": {},
     "output_type": "execute_result"
    }
   ],
   "source": [
    "round(f1_score(y_test, y_pred, average='micro'), 3)"
   ]
  },
  {
   "cell_type": "markdown",
   "id": "fe1e2530",
   "metadata": {},
   "source": [
    "Матрица ошибок:"
   ]
  },
  {
   "cell_type": "code",
   "execution_count": 53,
   "id": "d17c41d1",
   "metadata": {},
   "outputs": [
    {
     "data": {
      "image/png": "[encoded data removed]",
      "text/plain": [
       "<Figure size 500x300 with 2 Axes>"
      ]
     },
     "metadata": {},
     "output_type": "display_data"
    }
   ],
   "source": [
    "cm = confusion_matrix(y_test, y_pred)\n",
    "plt.figure(figsize=(5, 3))\n",
    "sns.heatmap(cm, annot=True, fmt='d')\n",
    "plt.title('Test Confusion Matrix')\n",
    "plt.show()"
   ]
  },
  {
   "cell_type": "markdown",
   "id": "36a859e4",
   "metadata": {},
   "source": [
    "## LogisticRegression + BOW"
   ]
  },
  {
   "cell_type": "code",
   "execution_count": 54,
   "id": "901bbefd",
   "metadata": {},
   "outputs": [
    {
     "name": "stderr",
     "output_type": "stream",
     "text": [
      "/home/vladislav/Programs/anaconda3/lib/python3.9/site-packages/sklearn/linear_model/_logistic.py:814: ConvergenceWarning: lbfgs failed to converge (status=1):\n",
      "STOP: TOTAL NO. of ITERATIONS REACHED LIMIT.\n",
      "\n",
      "Increase the number of iterations (max_iter) or scale the data as shown in:\n",
      "    https://scikit-learn.org/stable/modules/preprocessing.html\n",
      "Please also refer to the documentation for alternative solver options:\n",
      "    https://scikit-learn.org/stable/modules/linear_model.html#logistic-regression\n",
      "  n_iter_i = _check_optimize_result(\n"
     ]
    }
   ],
   "source": [
    "clf = LogisticRegression(random_state=1345072986, solver='lbfgs', class_weight='balanced')\n",
    "clf.fit(x_train_bow, y_train)\n",
    "\n",
    "y_pred = clf.predict(x_test_bow)"
   ]
  },
  {
   "cell_type": "markdown",
   "id": "6f3060ca",
   "metadata": {},
   "source": [
    "Точность предсказаний:"
   ]
  },
  {
   "cell_type": "code",
   "execution_count": 55,
   "id": "4e8c346d",
   "metadata": {},
   "outputs": [
    {
     "data": {
      "text/plain": [
       "0.708"
      ]
     },
     "execution_count": 55,
     "metadata": {},
     "output_type": "execute_result"
    }
   ],
   "source": [
    "round(accuracy_score(y_test, y_pred), 3)"
   ]
  },
  {
   "cell_type": "markdown",
   "id": "d6caa860",
   "metadata": {},
   "source": [
    "F1-мера:"
   ]
  },
  {
   "cell_type": "code",
   "execution_count": 56,
   "id": "2a613333",
   "metadata": {},
   "outputs": [
    {
     "data": {
      "text/plain": [
       "0.708"
      ]
     },
     "execution_count": 56,
     "metadata": {},
     "output_type": "execute_result"
    }
   ],
   "source": [
    "round(f1_score(y_test, y_pred, average='micro'), 3)"
   ]
  },
  {
   "cell_type": "markdown",
   "id": "58f7aa27",
   "metadata": {},
   "source": [
    "Матрица ошибок:"
   ]
  },
  {
   "cell_type": "code",
   "execution_count": 57,
   "id": "643023ed",
   "metadata": {
    "scrolled": true
   },
   "outputs": [
    {
     "data": {
      "image/png": "[encoded data removed]",
      "text/plain": [
       "<Figure size 500x300 with 2 Axes>"
      ]
     },
     "metadata": {},
     "output_type": "display_data"
    }
   ],
   "source": [
    "cm = confusion_matrix(y_test, y_pred)\n",
    "plt.figure(figsize=(5, 3))\n",
    "sns.heatmap(cm, annot=True, fmt='d')\n",
    "plt.title('Test Confusion Matrix')\n",
    "plt.show()"
   ]
  },
  {
   "cell_type": "markdown",
   "id": "71f56f0e",
   "metadata": {},
   "source": [
    "# Результаты, замечания и краткие выводы:"
   ]
  },
  {
   "cell_type": "markdown",
   "id": "76db55cd",
   "metadata": {},
   "source": [
    "- *Наилучший результат показала модель логистической регрессии на данных, векторизированных методом BOW*\n",
    "- Эмпирическим путём было выявлено, что результаты сильно зависят от того, насколько качественно было произведено разделение выборки на обучающую и тестовую. Уверенной стабилизации качества в пределах одного значения так и не удалось добиться. \n",
    "- Результаты сильно падают, если параметр ngram_range ограничить только одним числом: 1, 2 или 3. Это может говорить о том, что на сложность фильма одновременно влияют сразу три фактора: количество редкоупотребляемых слов и устойчивых (неустойчивых?) словосочестаний из 2, 3 слов.\n",
    "- Результаты могут сильно зависеть от того, как была произведена замена смешанных уровней сложности (в работе была произведена замена на низшие из представленых в альтернативе)\n",
    "- Обнаружены следующие проблемы в данных: некоторым фильмам сопоставлено несколько наборов субтитров, каким-то вообще субтитры не сопоставлены."
   ]
  }
 ],
 "metadata": {
  "kernelspec": {
   "display_name": "Python 3 (ipykernel)",
   "language": "python",
   "name": "python3"
  },
  "language_info": {
   "codemirror_mode": {
    "name": "ipython",
    "version": 3
   },
   "file_extension": ".py",
   "mimetype": "text/x-python",
   "name": "python",
   "nbconvert_exporter": "python",
   "pygments_lexer": "ipython3",
   "version": "3.9.13"
  },
  "toc": {
   "base_numbering": 1,
   "nav_menu": {},
   "number_sections": true,
   "sideBar": true,
   "skip_h1_title": false,
   "title_cell": "Содержание",
   "title_sidebar": "Contents",
   "toc_cell": true,
   "toc_position": {
    "height": "calc(100% - 180px)",
    "left": "10px",
    "top": "150px",
    "width": "294.4px"
   },
   "toc_section_display": true,
   "toc_window_display": true
  }
 },
 "nbformat": 4,
 "nbformat_minor": 5
}
